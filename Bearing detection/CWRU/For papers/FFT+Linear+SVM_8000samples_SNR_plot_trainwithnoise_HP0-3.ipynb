{
 "cells": [
  {
   "cell_type": "code",
   "execution_count": 2,
   "metadata": {
    "pycharm": {
     "is_executing": false
    }
   },
   "outputs": [],
   "source": [
    "import torch\n",
    "import torch.nn as nn\n",
    "import torch.utils.data as Data\n",
    "import numpy as np\n",
    "from scipy.io import loadmat\n",
    "from sklearn.model_selection import train_test_split\n",
    "from sklearn.svm import SVC\n",
    "from sklearn import preprocessing\n",
    "from sklearn.metrics import f1_score, accuracy_score\n",
    "from scipy.fftpack import fft\n",
    "import time\n",
    "import matplotlib.pyplot as plt\n",
    "import pylab as pl\n",
    "from matplotlib.pyplot import savefig\n",
    "\n",
    "device = torch.device(\"cuda\" if torch.cuda.is_available() else \"cpu\")\n",
    "#device = torch.device(\"cuda\")"
   ]
  },
  {
   "cell_type": "code",
   "execution_count": 777,
   "metadata": {},
   "outputs": [],
   "source": [
    "def generate800samples(input_ndarray):\n",
    "    x=torch.from_numpy(input_ndarray[0:1024]).squeeze()\n",
    "    for i in range(1,800):\n",
    "        x_new=torch.from_numpy(input_ndarray[i*12:(i*12+1024)]).squeeze()\n",
    "        x=torch.cat((x,x_new),0)\n",
    "    x=x.reshape(-1,1024)\n",
    "    #print(np.shape(x))\n",
    "    return x#注意这里要有返回值"
   ]
  },
  {
   "cell_type": "code",
   "execution_count": 778,
   "metadata": {},
   "outputs": [
    {
     "name": "stdout",
     "output_type": "stream",
     "text": [
      "torch.Size([800, 1024])\n",
      "tensor([[ 0.0532,  0.0887,  0.0997,  ...,  0.1045,  0.1519,  0.1602],\n",
      "        [ 0.0459,  0.0922,  0.0918,  ...,  0.0989,  0.1239,  0.1091],\n",
      "        [ 0.0050,  0.0286,  0.0438,  ...,  0.0607,  0.0868,  0.0716],\n",
      "        ...,\n",
      "        [ 0.0063,  0.0127,  0.0248,  ..., -0.1179, -0.0296,  0.0334],\n",
      "        [-0.0167, -0.0058,  0.0340,  ..., -0.0519,  0.0234,  0.0741],\n",
      "        [ 0.0083,  0.0313,  0.0618,  ...,  0.0461,  0.0780,  0.1033]],\n",
      "       dtype=torch.float64)\n"
     ]
    }
   ],
   "source": [
    "#制作数据集HP=0-3 make data set HP=0-3\n",
    "m0 = loadmat(\"../data/CWRU/Normal_Data/97.mat\")#HP=0 正常情况，读取后是dict格式\n",
    "#12k驱动端轴承采集信号（不是轴承的驱动端，是驱动端轴承）12k_Drive_End_Data\n",
    "m1 = loadmat(\"../data/CWRU/12k_Drive_End_Data/108.mat\")#HP=3，7，inner\n",
    "m2 = loadmat(\"../data/CWRU/12k_Drive_End_Data/121.mat\")#HP=3，7，ball\n",
    "m3 = loadmat(\"../data/CWRU/12k_Drive_End_Data/133.mat\")#HP=3，7，outer6\n",
    "m4 = loadmat(\"../data/CWRU/12k_Drive_End_Data/171.mat\")#HP=2，14，inner\n",
    "m5 = loadmat(\"../data/CWRU/12k_Drive_End_Data/187.mat\")#HP=2，14，ball\n",
    "m6 = loadmat(\"../data/CWRU/12k_Drive_End_Data/199.mat\")#HP=2，14，outer6\n",
    "m7 = loadmat(\"../data/CWRU/12k_Drive_End_Data/210.mat\")#HP=1，21，inner\n",
    "m8 = loadmat(\"../data/CWRU/12k_Drive_End_Data/223.mat\")#HP=1，21，ball\n",
    "m9 = loadmat(\"../data/CWRU/12k_Drive_End_Data/247.mat\")#HP=1，21，outer3\n",
    "#12k风扇端轴承采集信号 12k_Fan_End_Data\n",
    "m10 = loadmat(\"../data/CWRU/12k_Fan_End_Data/281.mat\")#HP=3，7，inner\n",
    "m11 = loadmat(\"../data/CWRU/12k_Fan_End_Data/285.mat\")#HP=3，7，ball\n",
    "m12 = loadmat(\"../data/CWRU/12k_Fan_End_Data/297.mat\")#HP=3，7，outer6\n",
    "m13 = loadmat(\"../data/CWRU/12k_Fan_End_Data/276.mat\")#HP=2，14，inner\n",
    "m14 = loadmat(\"../data/CWRU/12k_Fan_End_Data/288.mat\")#HP=2，14，ball\n",
    "m15 = loadmat(\"../data/CWRU/12k_Fan_End_Data/311.mat\")#HP=2，14，outer3\n",
    "m16 = loadmat(\"../data/CWRU/12k_Fan_End_Data/271.mat\")#HP=1，21，inner\n",
    "m17 = loadmat(\"../data/CWRU/12k_Fan_End_Data/291.mat\")#HP=1，21，ball\n",
    "m18 = loadmat(\"../data/CWRU/12k_Fan_End_Data/316.mat\")#HP=1，21，outer3\n",
    "\n",
    "y0 = torch.from_numpy(m0['X097_DE_time'][:4096 * 25]).squeeze()\n",
    "y1 = torch.from_numpy(m1['X108_DE_time'][:4096 * 25]).squeeze()\n",
    "y2 = torch.from_numpy(m2['X121_DE_time'][:4096 * 25]).squeeze()\n",
    "y3 = torch.from_numpy(m3['X133_DE_time'][:4096 * 25]).squeeze()\n",
    "y4 = torch.from_numpy(m4['X171_DE_time'][:4096 * 25]).squeeze()\n",
    "y5 = torch.from_numpy(m5['X187_DE_time'][:4096 * 25]).squeeze()\n",
    "y6 = torch.from_numpy(m6['X199_DE_time'][:4096 * 25]).squeeze()\n",
    "y7 = torch.from_numpy(m7['X210_DE_time'][:4096 * 25]).squeeze()\n",
    "y8 = torch.from_numpy(m8['X223_DE_time'][:4096 * 25]).squeeze()\n",
    "y9 = torch.from_numpy(m9['X247_DE_time'][:4096 * 25]).squeeze()\n",
    "\n",
    "y10 = torch.from_numpy(m10['X281_DE_time'][:4096 * 25]).squeeze()\n",
    "y11 = torch.from_numpy(m11['X285_DE_time'][:4096 * 25]).squeeze()\n",
    "y12 = torch.from_numpy(m12['X297_DE_time'][:4096 * 25]).squeeze()\n",
    "y13 = torch.from_numpy(m13['X276_DE_time'][:4096 * 25]).squeeze()\n",
    "y14 = torch.from_numpy(m14['X288_DE_time'][:4096 * 25]).squeeze()\n",
    "y15 = torch.from_numpy(m15['X311_DE_time'][:4096 * 25]).squeeze()\n",
    "y16 = torch.from_numpy(m16['X271_DE_time'][:4096 * 25]).squeeze()\n",
    "y17 = torch.from_numpy(m17['X291_DE_time'][:4096 * 25]).squeeze()\n",
    "y18 = torch.from_numpy(m18['X316_DE_time'][:4096 * 25]).squeeze()\n",
    "\n",
    "y0 = generate800samples(m0['X097_DE_time'])\n",
    "y1 = generate800samples(m1['X108_DE_time'])\n",
    "y2 = generate800samples(m2['X121_DE_time'])\n",
    "y3 = generate800samples(m3['X133_DE_time'])\n",
    "y4 = generate800samples(m4['X171_DE_time'])\n",
    "y5 = generate800samples(m5['X187_DE_time'])\n",
    "y6 = generate800samples(m6['X199_DE_time'])\n",
    "y7 = generate800samples(m7['X210_DE_time'])\n",
    "y8 = generate800samples(m8['X223_DE_time'])\n",
    "y9 = generate800samples(m9['X247_DE_time'])\n",
    "y10 = generate800samples(m10['X281_DE_time'])\n",
    "y11 = generate800samples(m11['X285_DE_time'])\n",
    "y12 = generate800samples(m12['X297_DE_time'])\n",
    "y13 = generate800samples(m13['X276_DE_time'])\n",
    "y14 = generate800samples(m14['X288_DE_time'])\n",
    "y15 = generate800samples(m15['X311_DE_time'])\n",
    "y16 = generate800samples(m16['X271_DE_time'])\n",
    "y17 = generate800samples(m17['X291_DE_time'])\n",
    "y18 = generate800samples(m18['X316_DE_time'])\n",
    "print(np.shape(y0))\n",
    "print(y0)"
   ]
  },
  {
   "cell_type": "code",
   "execution_count": 779,
   "metadata": {},
   "outputs": [],
   "source": [
    "#FFT+BN\n",
    "def FFT_BN_transpose(input_data):\n",
    "    X_len=np.shape(input_data)[0]\n",
    "    X=np.empty(shape=[X_len,1024])#X作为中间变量起到容器作用\n",
    "    for i in range(X_len):\n",
    "        Y=fft(input_data[i])\n",
    "        input_data[i]=np.abs(Y)\n",
    "        input_data[i]=(input_data[i]/X_len)\n",
    "        X[i]=input_data[i][:1024]\n",
    "    X = preprocessing.scale(X)\n",
    "    print('output_data.shape:',np.shape(X))\n",
    "    return X"
   ]
  },
  {
   "cell_type": "code",
   "execution_count": 780,
   "metadata": {},
   "outputs": [],
   "source": [
    "def gen_gaussian_noise(signal,SNR):\n",
    "    \"\"\"\n",
    "    :param signal: 原始信号 original signal\n",
    "    :param SNR: 添加噪声的信噪比 signal noise ratio\n",
    "    :return: 生成的噪声 the generated noise \n",
    "    \"\"\"\n",
    "    #print('the shape of original signal',np.shape(signal))\n",
    "    noise=np.random.randn(*signal.shape) # *signal.shape 获取样本序列的尺寸\n",
    "    noise=noise-np.mean(noise)\n",
    "    signal_power=(1/signal.shape[0])*np.sum(np.power(signal,2))\n",
    "    noise_variance=signal_power/np.power(10,(SNR/10))\n",
    "    noise=(np.sqrt(noise_variance)/np.std(noise))*noise\n",
    "    #print('the shape of noise',np.shape(noise))\n",
    "    return noise"
   ]
  },
  {
   "cell_type": "code",
   "execution_count": 781,
   "metadata": {},
   "outputs": [
    {
     "name": "stdout",
     "output_type": "stream",
     "text": [
      "All_data.shape before FFT: (8000, 2048)\n"
     ]
    }
   ],
   "source": [
    "train_data = torch.stack((y0, y0, y1, y2, y3, y4, y5, y6, y7, y8, y9, y10, y11, y12, y13, y14, y15, y16, y17, y18), 0)\n",
    "train_data = train_data.reshape(-1, 2048).type(torch.FloatTensor)#(8000, 2048)必须是2048后面才能进入FFT\n",
    "train_data = train_data.numpy()\n",
    "print('All_data.shape before FFT:',np.shape(train_data))#(8000, 2048)\n",
    "L1 = torch.zeros(400)\n",
    "L2 = torch.ones(400)\n",
    "L3 = L2.add(1)\n",
    "L4 = L3.add(1)\n",
    "L5 = L4.add(1)\n",
    "L6 = L5.add(1)\n",
    "L7 = L6.add(1)\n",
    "L8 = L7.add(1)\n",
    "L9 = L8.add(1)\n",
    "L10 = L9.add(1)\n",
    "labels = torch.cat((L1, L1, L2, L3, L4, L5, L6, L7, L8, L9, L10, L2, L3, L4, L5, L6, L7, L8, L9, L10), 0)\n",
    "labels = labels.numpy()\n",
    "x_train_beforeFFT, x_test_beforeFFT, y_train, y_test = train_test_split(train_data, labels, test_size=0.4)\n"
   ]
  },
  {
   "cell_type": "code",
   "execution_count": 782,
   "metadata": {},
   "outputs": [
    {
     "name": "stdout",
     "output_type": "stream",
     "text": [
      "output_data.shape: (4800, 1024)\n"
     ]
    }
   ],
   "source": [
    "# #part of the train data is added with noise\n",
    "SNR=3#-3,-2,-1,0,1,2,3\n",
    "number_of_train_data_with_noise=1920#0,480,960,1920\n",
    "\n",
    "for i in range(number_of_train_data_with_noise): \n",
    "    x_train_beforeFFT[i]=x_train_beforeFFT[i]+gen_gaussian_noise(x_train_beforeFFT[i],SNR)#注意传播性broadcast\n",
    "x_train=FFT_BN_transpose(x_train_beforeFFT)\n",
    "# print('x_train.shape:',np.shape(x_train))\n",
    "# print('x_test_beforeFFT:',np.shape(x_test_beforeFFT))"
   ]
  },
  {
   "cell_type": "code",
   "execution_count": 783,
   "metadata": {},
   "outputs": [
    {
     "name": "stdout",
     "output_type": "stream",
     "text": [
      "x_train.shape: torch.Size([4800, 1024])\n"
     ]
    }
   ],
   "source": [
    "\n",
    "x_train = torch.from_numpy(x_train).type(torch.FloatTensor).to(device)#先划分数据集，训练集训练模型，测试集加上白噪声，再预处理，进入刚才训练好的模型检验精度\n",
    "y_train = torch.from_numpy(y_train).type(torch.FloatTensor).to(device)\n",
    "dataset = Data.TensorDataset(x_train, y_train)\n",
    "print('x_train.shape:',np.shape(x_train))"
   ]
  },
  {
   "cell_type": "code",
   "execution_count": 784,
   "metadata": {},
   "outputs": [],
   "source": [
    "#观察随机一个初始测试信号 observe an original signal\n",
    "from pylab import *\n",
    "mpl.rcParams['font.sans-serif'] = ['SimHei']#这个title可以加上中文\n",
    "mpl.rcParams['axes.unicode_minus'] = False\n",
    "\n",
    "num=[]\n",
    "for i in range(2048):\n",
    "    num.append(i)\n",
    "\n",
    "num1=[]\n",
    "for i in range(1024):\n",
    "    num1.append(i)"
   ]
  },
  {
   "cell_type": "code",
   "execution_count": 785,
   "metadata": {},
   "outputs": [],
   "source": [
    "# NoiseNo=15 #The number of observed data\n",
    "# pl.title('original data')\n",
    "# plt.xlabel('Sampling points')\n",
    "# plt.ylabel('Amplitude/mm')\n",
    "# pl.plot(num, list(train_data[NoiseNo]), 'r-')\n",
    "# print(np.shape(train_data[NoiseNo]))\n",
    "# savefig(\"original data.png\", dpi=400,bbox_inches = 'tight')#先保存再显示，否则会被清零\n",
    "# pl.show()"
   ]
  },
  {
   "cell_type": "code",
   "execution_count": 786,
   "metadata": {},
   "outputs": [],
   "source": [
    "# noise= gen_gaussian_noise(train_data[NoiseNo],SNR)\n",
    "# pl.title('noise for raw data')\n",
    "# plt.xlabel('Sampling points')\n",
    "# plt.ylabel('Amplitude/mm')\n",
    "# pl.plot(num, noise, 'r-')\n",
    "# savefig(\"noise for raw data.png\", dpi=400,bbox_inches = 'tight')\n",
    "# pl.show()"
   ]
  },
  {
   "cell_type": "code",
   "execution_count": 787,
   "metadata": {},
   "outputs": [
    {
     "name": "stdout",
     "output_type": "stream",
     "text": [
      "SNR -2.999999999999999\n"
     ]
    }
   ],
   "source": [
    "def check_snr(signal,noise):\n",
    "    \"\"\"\n",
    "    :param signal: 原始信号\n",
    "    :param noise: 生成的高斯噪声\n",
    "    :return: 返回两者的信噪比\n",
    "    \"\"\"\n",
    "    signal_power=(1/signal.shape[0])*np.sum(np.power(signal,2))# 0.5722037\n",
    "    noise_power=(1/noise.shape[0])*np.sum(np.power(noise,2)) # 0.90688\n",
    "    SNR=10*np.log10(signal_power/noise_power)\n",
    "    return SNR\n",
    "\n",
    "Checked_SNR= check_snr(train_data[NoiseNo],noise)\n",
    "print ('SNR',Checked_SNR)"
   ]
  },
  {
   "cell_type": "code",
   "execution_count": 788,
   "metadata": {},
   "outputs": [],
   "source": [
    "# train_data_with_noise=train_data[NoiseNo]+noise\n",
    "# pl.title('data with noise')\n",
    "# plt.xlabel('Sampling points')\n",
    "# plt.ylabel('Amplitude/mm')\n",
    "# pl.plot(num, train_data_with_noise, 'r-')\n",
    "# savefig(\"data with noise.png\", dpi=400,bbox_inches = 'tight')\n",
    "# pl.show()"
   ]
  },
  {
   "cell_type": "code",
   "execution_count": 789,
   "metadata": {},
   "outputs": [],
   "source": [
    "# pl.title('data after FFT')\n",
    "# plt.xlabel('Sampling points')\n",
    "# plt.ylabel('Amplitude/mm')\n",
    "# pl.plot(num1, list(x_train[NoiseNo]), 'r-')\n",
    "# #savefig(\"经过FFT变换后的数据.png\", dpi=400,bbox_inches = 'tight')\n",
    "# plt.savefig(\"data after FFT.png\", dpi=400,bbox_inches = 'tight')\n",
    "# pl.show()"
   ]
  },
  {
   "cell_type": "code",
   "execution_count": null,
   "metadata": {},
   "outputs": [],
   "source": []
  },
  {
   "cell_type": "code",
   "execution_count": 790,
   "metadata": {},
   "outputs": [
    {
     "name": "stdout",
     "output_type": "stream",
     "text": [
      "output_data.shape: (3200, 1024)\n",
      "output_data.shape: (3200, 1024)\n",
      "x_test.shape: (3200, 1024)\n",
      "x_test_with_noisy.shape: (3200, 1024)\n"
     ]
    }
   ],
   "source": [
    "#修改所有X_test加入了噪音数据,并进行FFT  Test data set is added with noise\n",
    "x_test_noisy_signal=np.empty(shape=np.shape(x_test_beforeFFT))\n",
    "\n",
    "for i in range(len(x_test_beforeFFT)):    \n",
    "    x_test_noisy_signal[i]=x_test_beforeFFT[i]+gen_gaussian_noise(x_test_beforeFFT[i],SNR)#注意传播性broadcast\n",
    "x_test_with_noisy=FFT_BN_transpose(x_test_noisy_signal)\n",
    "x_test=FFT_BN_transpose(x_test_beforeFFT)\n",
    "print('x_test.shape:',np.shape(x_test))\n",
    "print('x_test_with_noisy.shape:',np.shape(x_test_with_noisy))\n",
    "#x_test = torch.from_numpy(x_test).type(torch.FloatTensor).to(device)#test data without SNR\n",
    "x_test = torch.from_numpy(x_test_with_noisy).type(torch.FloatTensor).to(device)#test data with SNR"
   ]
  },
  {
   "cell_type": "code",
   "execution_count": 791,
   "metadata": {},
   "outputs": [],
   "source": [
    "# pl.title('original test data FFT')\n",
    "# plt.xlabel('Sampling points')\n",
    "# plt.ylabel('Amplitude/mm')\n",
    "# pl.plot(num, list(x_test_beforeFFT[NoiseNo]), 'r-')\n",
    "# savefig(\"x_test_beforeFFT.png\", dpi=400,bbox_inches = 'tight')#先保存再显示，否则会被清零\n",
    "# pl.show()\n",
    "\n",
    "# pl.title('data with noise FFT')\n",
    "# plt.xlabel('Sampling points')\n",
    "# plt.ylabel('Amplitude/mm')\n",
    "# pl.plot(num1, x_test_with_noisy[NoiseNo], 'r-')\n",
    "# savefig(\"x_test_with_noisy_FFT.png\", dpi=400,bbox_inches = 'tight')\n",
    "# pl.show()"
   ]
  },
  {
   "cell_type": "code",
   "execution_count": 792,
   "metadata": {},
   "outputs": [
    {
     "data": {
      "text/plain": [
       "(3200, 2048)"
      ]
     },
     "execution_count": 792,
     "metadata": {},
     "output_type": "execute_result"
    }
   ],
   "source": [
    "x_test_beforeFFT.shape"
   ]
  },
  {
   "cell_type": "code",
   "execution_count": 793,
   "metadata": {},
   "outputs": [
    {
     "name": "stdout",
     "output_type": "stream",
     "text": [
      "Epoch[1,5] Loss:0.181875\n",
      "SVM fit-score = 1.0\n",
      "Epoch[2,5] Loss:0.081432\n",
      "SVM fit-score = 1.0\n",
      "Epoch[3,5] Loss:0.043927\n",
      "SVM fit-score = 1.0\n",
      "Epoch[4,5] Loss:0.018910\n",
      "SVM fit-score = 1.0\n",
      "Epoch[5,5] Loss:0.016748\n",
      "SVM fit-score = 1.0\n"
     ]
    },
    {
     "data": {
      "image/png": "[encoded data removed]",
      "text/plain": [
       "<Figure size 432x288 with 1 Axes>"
      ]
     },
     "metadata": {
      "needs_background": "light"
     },
     "output_type": "display_data"
    },
    {
     "data": {
      "image/png": "[encoded data removed]",
      "text/plain": [
       "<Figure size 432x288 with 1 Axes>"
      ]
     },
     "metadata": {
      "needs_background": "light"
     },
     "output_type": "display_data"
    },
    {
     "name": "stdout",
     "output_type": "stream",
     "text": [
      "Test Accuracy = 0.9996875\n",
      "Time cost = 81.37262177467346\n"
     ]
    }
   ],
   "source": [
    "#线性神经网络分类 Fully connected network classification\n",
    "start = time.time()\n",
    "EPOCH = 5\n",
    "BATCH_SIZE = 64\n",
    "LR = 0.001\n",
    "Loss_num = []\n",
    "Loss_list = []\n",
    "Acc_list=[]\n",
    "train_loader = Data.DataLoader(dataset=dataset, batch_size=BATCH_SIZE, shuffle=True)#step1 data\n",
    "# Hyper Parameters\n",
    "\n",
    "class AutoEncoder(nn.Module):\n",
    "    def __init__(self):\n",
    "        super(AutoEncoder, self).__init__()\n",
    "\n",
    "        self.encoder = nn.Sequential(\n",
    "\n",
    "            nn.Linear(1024, 10),\n",
    "    )\n",
    "\n",
    "    def forward(self, x):\n",
    "        encoded = self.encoder(x)\n",
    "        return encoded\n",
    "\n",
    "autoencoder = AutoEncoder().to(device) #step2 Model\n",
    "autoencoder.train(mode=True)\n",
    "# loss_func1 = nn.MSELoss()\n",
    "loss_func1 = nn.CrossEntropyLoss()#step3 Loss\n",
    "optimizer = torch.optim.Adam(autoencoder.parameters(), lr=LR, weight_decay=1e-5) #step4 optimizer\n",
    "\n",
    "for epoch in range(EPOCH):  # train\n",
    "    for step,(x,y) in enumerate(train_loader):\n",
    "        b_x = x.view(-1, 1, 1024).to(device)  # batch x, shape (batch, 1024)\n",
    "        b_y = x.view(-1, 1024).to(device)  # batch y, shape (batch, 1024)\n",
    "\n",
    "        encoded = autoencoder(b_x)\n",
    "        loss1 = loss_func1(encoded.reshape(-1,10),y.long())  # mean square error\n",
    "\n",
    "        optimizer.zero_grad()  # clear gradients for this training step\n",
    "        loss1.backward()  # backpropagation, compute gradients\n",
    "        optimizer.step()  # apply gradients\n",
    "\n",
    "        Loss_list.append(loss1.item())\n",
    "        Loss_num.append(epoch)\n",
    "        \n",
    "        # 准确率\n",
    "        encoded_data = autoencoder(x_train.view(-1, 1, 1024))\n",
    "        encoded_data = encoded_data.cpu().detach().numpy()\n",
    "        # clf = SVC(C=8.94, gamma=3.26)\n",
    "        clf = SVC(C=10.23, kernel='rbf', gamma=0.001, decision_function_shape='ovr')#rbf高斯基核函数\n",
    "        clf.fit(encoded_data.reshape(-1, 10), y_train.cpu().numpy())\n",
    "        fit_score = clf.score(encoded_data.reshape(-1 ,10), y_train.cpu().numpy())\n",
    "        Acc_list.append(fit_score)\n",
    "        \n",
    "    showLossnIterval = 1\n",
    "    if epoch%showLossnIterval == 0:    \n",
    "        print('Epoch[%d,%d] Loss:%f' % (epoch + showLossnIterval, EPOCH, loss1.item()))\n",
    "        print('SVM fit-score = ' + str(fit_score))\n",
    "\n",
    "pl.title('Train Loss')\n",
    "plt.xlabel('Train epoch')\n",
    "plt.ylabel('Loss value')\n",
    "pl.plot(Loss_num, Loss_list, 'r-')\n",
    "savefig(\"Train Loss.png\", dpi=400,bbox_inches = 'tight')#先保存图片再显示\n",
    "pl.show()\n",
    "\n",
    "pl.title('Train SVM fit-score')\n",
    "plt.xlabel('Train epoch')\n",
    "plt.ylabel('Accuracy')\n",
    "pl.plot(Loss_num, Acc_list, 'r-')\n",
    "savefig(\"Train SVM fit-score.png\", dpi=400,bbox_inches = 'tight')\n",
    "pl.show()\n",
    "autoencoder.eval()  # Test\n",
    "\n",
    "encoded_data = autoencoder(x_test.view(-1, 1, 1024))\n",
    "encoded_data = encoded_data.detach().numpy()\n",
    "pred_y = clf.predict(encoded_data.reshape(-1, 10))\n",
    "accuracy = sum(pred_y == y_test) / len(x_test)\n",
    "print('Test Accuracy = ' + str(accuracy))\n",
    "\n",
    "end = time.time()\n",
    "print('Time cost = ' + str(end - start))"
   ]
  },
  {
   "cell_type": "code",
   "execution_count": 794,
   "metadata": {
    "pycharm": {
     "is_executing": true
    }
   },
   "outputs": [],
   "source": [
    "# #画SNR--ACC的图像\n",
    "\n",
    "# SNR=[-3,-2,-1,0,1,2,3]\n",
    "# ACC=[0.971,0.981,0.994,0.993,0.989,0.995,0.997]\n",
    "# pl.plot(SNR, ACC, 'r-')\n",
    "# # figsize：创建图表窗口，设置窗口大小\n",
    "# # 创建图表对象，并赋值与fig\n",
    "\n",
    "# #plt.title('Accuracy under different SNR')  # 图名\n",
    "# plt.xlabel('SNR/dB')  # x轴标签\n",
    "# plt.ylabel('Accuracy') # y轴标签\n",
    "\n",
    "# plt.legend(loc = 'upper right')\n",
    "# savefig(\"Accuracy under different SNR.png\", dpi=400,bbox_inches = 'tight')\n",
    "# pl.show()\n",
    "# #plt.xlim([0,12])  # x轴边界\n",
    "# #plt.ylim([0,1.5])  # y轴边界\n",
    "# #plt.xticks(range(10))  # 设置x刻度,与下面工作重复，分成10段\n",
    "# #plt.yticks([0,0.2,0.4,0.6,0.8,1.0,1.2])  # 设置y刻度\n",
    "# # 范围只限定图表的长度，刻度则是决定显示的标尺 → 这里x轴范围是0-12，但刻度只是0-9，刻度标签使得其显示1位小数\n",
    "# # 轴标签则是显示刻度的标签"
   ]
  },
  {
   "cell_type": "code",
   "execution_count": 795,
   "metadata": {},
   "outputs": [
    {
     "name": "stdout",
     "output_type": "stream",
     "text": [
      "**************************************************************************************************************************************************************************************************************************************\n",
      "                |Aveg|    |A|     |B|     |C|     |D|     |E|     |F|     |G|     |H|     |I|     |J|     \n",
      "precision: \t0.9997  1.0000  1.0000  1.0000  1.0000  1.0000  1.0000  1.0000  0.9966  1.0000  1.0000 \n",
      "recall: \t0.9997  1.0000  1.0000  1.0000  0.9968  1.0000  1.0000  1.0000  1.0000  1.0000  1.0000 \n",
      "accuracy: \t0.9999  1.0000  1.0000  1.0000  0.9997  1.0000  1.0000  1.0000  0.9997  1.0000  1.0000 \n",
      "f1_score: \t0.9997  1.0000  1.0000  1.0000  0.9984  1.0000  1.0000  1.0000  0.9983  1.0000  1.0000 \n",
      "**************************************************************************************************************************************************************************************************************************************\n"
     ]
    }
   ],
   "source": [
    "from evaluation import *\n",
    "import pandas as pd\n",
    "CLASSES = [chr(65 + i_) for i_ in range(10)]\n",
    "evals = Evaluations(pred_y, y_test,CLASSES)\n",
    "\n",
    "precision_ = evals.average.precision()\n",
    "recall_ = evals.average.recall()\n",
    "\n",
    "print(evals)\n"
   ]
  },
  {
   "cell_type": "code",
   "execution_count": 3,
   "metadata": {},
   "outputs": [
    {
     "data": {
      "image/png": "[encoded data removed]",
      "text/plain": [
       "<Figure size 432x288 with 1 Axes>"
      ]
     },
     "metadata": {
      "needs_background": "light"
     },
     "output_type": "display_data"
    }
   ],
   "source": [
    "import matplotlib.pyplot as plt\n",
    "\n",
    "x_data = ['-3','-2','-1','0','1','2','3']\n",
    "y_data1 = [0.5275,0.5897,0.6084,0.6600,0.6538,0.7609,0.8059]\n",
    "y_data2 = [0.9481,0.9812,0.9675,0.9756,0.9856,0.9881,0.9966]\n",
    "y_data3 = [0.9822,0.9856,0.9856,0.9906,0.9956,0.9991,0.9975]\n",
    "y_data4 = [0.9944,0.9969,0.9984,0.9991,0.9991,0.9988,0.9997]\n",
    "\n",
    "ln1, = plt.plot(x_data,y_data1,color='red',marker='o')\n",
    "ln2, = plt.plot(x_data,y_data2,color='blue',marker='*')\n",
    "ln3, = plt.plot(x_data,y_data3,color='black',marker='.')\n",
    "ln4, = plt.plot(x_data,y_data4,color='green',marker='>')\n",
    "\n",
    "plt.legend(handles=[ln1,ln2,ln3,ln4],labels=['Experiment.1','Experiment.2','Experiment.3','Experiment.4'],\n",
    "           loc = 0)\n",
    "\n",
    "plt.title('Precision under different SNR')  # 图名\n",
    "plt.xlabel('SNR/dB')  # x轴标签\n",
    "plt.ylabel('Precision') # y轴标签\n",
    "\n",
    "savefig(\"Precision under different SNR.png\", dpi=400,bbox_inches = 'tight')\n",
    "\n",
    "plt.show()"
   ]
  },
  {
   "cell_type": "code",
   "execution_count": null,
   "metadata": {},
   "outputs": [],
   "source": []
  },
  {
   "cell_type": "code",
   "execution_count": null,
   "metadata": {},
   "outputs": [],
   "source": []
  },
  {
   "cell_type": "code",
   "execution_count": null,
   "metadata": {},
   "outputs": [],
   "source": []
  }
 ],
 "metadata": {
  "kernelspec": {
   "display_name": "Python 3",
   "language": "python",
   "name": "python3"
  },
  "language_info": {
   "codemirror_mode": {
    "name": "ipython",
    "version": 3
   },
   "file_extension": ".py",
   "mimetype": "text/x-python",
   "name": "python",
   "nbconvert_exporter": "python",
   "pygments_lexer": "ipython3",
   "version": "3.7.4"
  },
  "pycharm": {
   "stem_cell": {
    "cell_type": "raw",
    "metadata": {
     "collapsed": false
    },
    "source": []
   }
  }
 },
 "nbformat": 4,
 "nbformat_minor": 2
}
